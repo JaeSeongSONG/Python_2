{
 "cells": [
  {
   "cell_type": "markdown",
   "id": "a875e483",
   "metadata": {},
   "source": [
    "## 판다스 데이터 구조"
   ]
  },
  {
   "cell_type": "markdown",
   "id": "e9455122",
   "metadata": {},
   "source": [
    "### 시리즈"
   ]
  },
  {
   "cell_type": "code",
   "execution_count": 1,
   "id": "7e9df0ae",
   "metadata": {},
   "outputs": [],
   "source": [
    "# 라이브러리 불러들이기\n",
    "import pandas as pd"
   ]
  },
  {
   "cell_type": "code",
   "execution_count": 6,
   "id": "baaa5f38",
   "metadata": {},
   "outputs": [
    {
     "data": {
      "text/plain": [
       "00       Doc\n",
       "11       Cat\n",
       "22     Tiger\n",
       "33      Lion\n",
       "44    Monkey\n",
       "dtype: object"
      ]
     },
     "execution_count": 6,
     "metadata": {},
     "output_type": "execute_result"
    }
   ],
   "source": [
    "sd1 = pd.Series(['Doc', 'Cat', 'Tiger', 'Lion', 'Monkey'], \n",
    "                index = ['00', '11', '22', '33', '44'])\n",
    "\n",
    "sd1"
   ]
  },
  {
   "cell_type": "markdown",
   "id": "86e08020",
   "metadata": {},
   "source": [
    "#### 딕셔너리 -> 시리즈로"
   ]
  },
  {
   "cell_type": "code",
   "execution_count": 7,
   "id": "b7faa933",
   "metadata": {},
   "outputs": [
    {
     "data": {
      "text/plain": [
       "{'a': 1, 'b': 2, 'c': 3}"
      ]
     },
     "execution_count": 7,
     "metadata": {},
     "output_type": "execute_result"
    }
   ],
   "source": [
    "dict_data = {'a' : 1, 'b' : 2, 'c' : 3}\n",
    "dict_data"
   ]
  },
  {
   "cell_type": "code",
   "execution_count": 10,
   "id": "b2a3b3ac",
   "metadata": {},
   "outputs": [
    {
     "data": {
      "text/plain": [
       "a    1\n",
       "b    2\n",
       "c    3\n",
       "dtype: int64"
      ]
     },
     "execution_count": 10,
     "metadata": {},
     "output_type": "execute_result"
    }
   ],
   "source": [
    "sd2 = pd.Series(dict_data)\n",
    "sd2"
   ]
  },
  {
   "cell_type": "code",
   "execution_count": 11,
   "id": "3375400c",
   "metadata": {},
   "outputs": [
    {
     "data": {
      "text/plain": [
       "pandas.core.series.Series"
      ]
     },
     "execution_count": 11,
     "metadata": {},
     "output_type": "execute_result"
    }
   ],
   "source": [
    "type(sd2)"
   ]
  },
  {
   "cell_type": "markdown",
   "id": "7468ab7d",
   "metadata": {},
   "source": [
    "### 리스트 -> 시리즈로"
   ]
  },
  {
   "cell_type": "code",
   "execution_count": 12,
   "id": "f188ba3a",
   "metadata": {},
   "outputs": [
    {
     "data": {
      "text/plain": [
       "0      Dog\n",
       "1      Cat\n",
       "2    Tiger\n",
       "dtype: object"
      ]
     },
     "execution_count": 12,
     "metadata": {},
     "output_type": "execute_result"
    }
   ],
   "source": [
    "list_data = ['Dog', 'Cat', 'Tiger']\n",
    "\n",
    "sd3 = pd.Series(list_data)\n",
    "sd3"
   ]
  },
  {
   "cell_type": "code",
   "execution_count": 13,
   "id": "44538405",
   "metadata": {},
   "outputs": [
    {
     "data": {
      "text/plain": [
       "pandas.core.series.Series"
      ]
     },
     "execution_count": 13,
     "metadata": {},
     "output_type": "execute_result"
    }
   ],
   "source": [
    "type(sd3)"
   ]
  },
  {
   "cell_type": "markdown",
   "id": "9f221b85",
   "metadata": {},
   "source": [
    "### 튜플 -> 시리즈로"
   ]
  },
  {
   "cell_type": "code",
   "execution_count": 14,
   "id": "8f8286ec",
   "metadata": {},
   "outputs": [
    {
     "data": {
      "text/plain": [
       "('이순신', '1991-03-15', '남자')"
      ]
     },
     "execution_count": 14,
     "metadata": {},
     "output_type": "execute_result"
    }
   ],
   "source": [
    "# '이순신', '1991-03-15', '남자'\n",
    "# 위 데이터를 튜플로 만들어 주세요...\n",
    "\n",
    "tup_data = ('이순신', '1991-03-15', '남자')\n",
    "tup_data"
   ]
  },
  {
   "cell_type": "code",
   "execution_count": 17,
   "id": "0dd82122",
   "metadata": {},
   "outputs": [
    {
     "data": {
      "text/plain": [
       "이름             이순신\n",
       "생년월일    1991-03-15\n",
       "성별              남자\n",
       "dtype: object"
      ]
     },
     "execution_count": 17,
     "metadata": {},
     "output_type": "execute_result"
    }
   ],
   "source": [
    "col_name = [\"이름\", \"생년월일\", \"성별\"]\n",
    "\n",
    "sd4 = pd.Series(tup_data, \n",
    "                index = col_name)\n",
    "sd4"
   ]
  },
  {
   "cell_type": "code",
   "execution_count": null,
   "id": "0ec8bda0",
   "metadata": {},
   "outputs": [],
   "source": []
  },
  {
   "cell_type": "markdown",
   "id": "c689fd0d",
   "metadata": {},
   "source": [
    "## 데이터프레임 만들기"
   ]
  },
  {
   "cell_type": "markdown",
   "id": "d7075f4c",
   "metadata": {},
   "source": [
    "### 딕셔너리 -> 데이터프레임으로"
   ]
  },
  {
   "cell_type": "code",
   "execution_count": 18,
   "id": "5dd68fe2",
   "metadata": {},
   "outputs": [
    {
     "data": {
      "text/plain": [
       "{'동물': ['Dog', 'Cat', 'Tiger', 'Lion', 'Monkey'], '나이': [7, 9, 2, 3, 1]}"
      ]
     },
     "execution_count": 18,
     "metadata": {},
     "output_type": "execute_result"
    }
   ],
   "source": [
    "# 동물 : 'Dog', 'Cat', 'Tiger', 'Lion', 'Monkey'\n",
    "# 나이 : 7, 9, 2, 3, 1\n",
    "# 위에 동물과 나이를 하나의 딕셔너리로 만들어 주세요..\n",
    "dict_data = {'동물' : ['Dog', 'Cat', 'Tiger', 'Lion', 'Monkey'],\n",
    "             '나이' : [7, 9, 2, 3, 1]}\n",
    "dict_data"
   ]
  },
  {
   "cell_type": "code",
   "execution_count": 21,
   "id": "19e2f957",
   "metadata": {},
   "outputs": [
    {
     "data": {
      "text/plain": [
       "pandas.core.frame.DataFrame"
      ]
     },
     "execution_count": 21,
     "metadata": {},
     "output_type": "execute_result"
    }
   ],
   "source": [
    "# 데이터프레임으로 만들기\n",
    "df1 = pd.DataFrame(dict_data)\n",
    "df1\n",
    "type(df1)"
   ]
  },
  {
   "cell_type": "markdown",
   "id": "315fb347",
   "metadata": {},
   "source": [
    "### 리스트 -> 데이터프레임으로"
   ]
  },
  {
   "cell_type": "code",
   "execution_count": 22,
   "id": "2cb333e3",
   "metadata": {},
   "outputs": [
    {
     "data": {
      "text/plain": [
       "[['Dog', 7], ['Cat', 9], ['Tiger', 2], ['Lion', 3], ['Monkey', 1]]"
      ]
     },
     "execution_count": 22,
     "metadata": {},
     "output_type": "execute_result"
    }
   ],
   "source": [
    "list_data = [['Dog', 7], \n",
    "             ['Cat', 9], \n",
    "             ['Tiger', 2], \n",
    "             ['Lion', 3], \n",
    "             ['Monkey', 1]]\n",
    "list_data"
   ]
  },
  {
   "cell_type": "code",
   "execution_count": 27,
   "id": "264479bc",
   "metadata": {},
   "outputs": [
    {
     "name": "stdout",
     "output_type": "stream",
     "text": [
      "       동물  나이\n",
      "0     Dog   7\n",
      "1     Cat   9\n",
      "2   Tiger   2\n",
      "3    Lion   3\n",
      "4  Monkey   1\n",
      "<class 'pandas.core.frame.DataFrame'>\n",
      "동물    object\n",
      "나이     int64\n",
      "dtype: object\n"
     ]
    }
   ],
   "source": [
    "# 데이터프레임으로 만들기\n",
    "df2 = pd.DataFrame(list_data,\n",
    "                   columns = ['동물', '나이'])\n",
    "print(df2)\n",
    "\n",
    "print(type(df2))\n",
    "\n",
    "print(df2.dtypes)"
   ]
  },
  {
   "cell_type": "code",
   "execution_count": null,
   "id": "61b345ac",
   "metadata": {},
   "outputs": [],
   "source": []
  },
  {
   "cell_type": "markdown",
   "id": "5040bd25",
   "metadata": {},
   "source": [
    "### 비어 있는 데이터프레임 만들기"
   ]
  },
  {
   "cell_type": "code",
   "execution_count": 29,
   "id": "dc409ece",
   "metadata": {},
   "outputs": [
    {
     "data": {
      "text/html": [
       "<div>\n",
       "<style scoped>\n",
       "    .dataframe tbody tr th:only-of-type {\n",
       "        vertical-align: middle;\n",
       "    }\n",
       "\n",
       "    .dataframe tbody tr th {\n",
       "        vertical-align: top;\n",
       "    }\n",
       "\n",
       "    .dataframe thead th {\n",
       "        text-align: right;\n",
       "    }\n",
       "</style>\n",
       "<table border=\"1\" class=\"dataframe\">\n",
       "  <thead>\n",
       "    <tr style=\"text-align: right;\">\n",
       "      <th></th>\n",
       "    </tr>\n",
       "  </thead>\n",
       "  <tbody>\n",
       "  </tbody>\n",
       "</table>\n",
       "</div>"
      ],
      "text/plain": [
       "Empty DataFrame\n",
       "Columns: []\n",
       "Index: []"
      ]
     },
     "execution_count": 29,
     "metadata": {},
     "output_type": "execute_result"
    }
   ],
   "source": [
    "df_null = pd.DataFrame()\n",
    "df_null"
   ]
  },
  {
   "cell_type": "code",
   "execution_count": 31,
   "id": "b5cbce2d",
   "metadata": {},
   "outputs": [
    {
     "data": {
      "text/html": [
       "<div>\n",
       "<style scoped>\n",
       "    .dataframe tbody tr th:only-of-type {\n",
       "        vertical-align: middle;\n",
       "    }\n",
       "\n",
       "    .dataframe tbody tr th {\n",
       "        vertical-align: top;\n",
       "    }\n",
       "\n",
       "    .dataframe thead th {\n",
       "        text-align: right;\n",
       "    }\n",
       "</style>\n",
       "<table border=\"1\" class=\"dataframe\">\n",
       "  <thead>\n",
       "    <tr style=\"text-align: right;\">\n",
       "      <th></th>\n",
       "      <th>동물</th>\n",
       "    </tr>\n",
       "  </thead>\n",
       "  <tbody>\n",
       "  </tbody>\n",
       "</table>\n",
       "</div>"
      ],
      "text/plain": [
       "Empty DataFrame\n",
       "Columns: [동물]\n",
       "Index: []"
      ]
     },
     "execution_count": 31,
     "metadata": {},
     "output_type": "execute_result"
    }
   ],
   "source": [
    "# 컬럼(변수) 만들기\n",
    "df_null[\"동물\"] = \"Dog\"\n",
    "df_null"
   ]
  },
  {
   "cell_type": "code",
   "execution_count": null,
   "id": "385cf055",
   "metadata": {},
   "outputs": [],
   "source": []
  },
  {
   "cell_type": "code",
   "execution_count": null,
   "id": "de2ac1d0",
   "metadata": {},
   "outputs": [],
   "source": []
  },
  {
   "cell_type": "code",
   "execution_count": null,
   "id": "66cd5152",
   "metadata": {},
   "outputs": [],
   "source": []
  }
 ],
 "metadata": {
  "kernelspec": {
   "display_name": "Python 3 (ipykernel)",
   "language": "python",
   "name": "python3"
  },
  "language_info": {
   "codemirror_mode": {
    "name": "ipython",
    "version": 3
   },
   "file_extension": ".py",
   "mimetype": "text/x-python",
   "name": "python",
   "nbconvert_exporter": "python",
   "pygments_lexer": "ipython3",
   "version": "3.9.7"
  }
 },
 "nbformat": 4,
 "nbformat_minor": 5
}
